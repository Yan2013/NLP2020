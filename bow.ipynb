{
 "cells": [
  {
   "cell_type": "code",
   "execution_count": 66,
   "metadata": {},
   "outputs": [],
   "source": [
    "import jieba\n",
    "from gensim import corpora,models,similarities"
   ]
  },
  {
   "cell_type": "code",
   "execution_count": 67,
   "metadata": {
    "collapsed": true
   },
   "outputs": [],
   "source": [
    "doc0 = \"我不喜欢上海\"\n",
    "doc1 = \"上海是一个好地方\"\n",
    "doc2 = \"北京是一个好地方\"\n",
    "doc3 = \"上海好吃的在哪里\"\n",
    "doc4 = \"上海好玩的在哪里\"\n",
    "doc5 = \"上海是好地方\"\n",
    "doc6 = \"上海路和上海人\"\n",
    "doc7 = \"喜欢小吃\"\n",
    "doc_test=\"我喜欢上海的小吃\""
   ]
  },
  {
   "cell_type": "code",
   "execution_count": 68,
   "metadata": {
    "collapsed": true
   },
   "outputs": [],
   "source": [
    "all_doc = []\n",
    "all_doc.append(doc0)\n",
    "all_doc.append(doc1)\n",
    "all_doc.append(doc2)\n",
    "all_doc.append(doc3)\n",
    "all_doc.append(doc4)\n",
    "all_doc.append(doc5)\n",
    "all_doc.append(doc6)\n",
    "all_doc.append(doc7)"
   ]
  },
  {
   "cell_type": "code",
   "execution_count": 69,
   "metadata": {},
   "outputs": [
    {
     "data": {
      "text/plain": [
       "['我不喜欢上海',\n",
       " '上海是一个好地方',\n",
       " '北京是一个好地方',\n",
       " '上海好吃的在哪里',\n",
       " '上海好玩的在哪里',\n",
       " '上海是好地方',\n",
       " '上海路和上海人',\n",
       " '喜欢小吃']"
      ]
     },
     "execution_count": 69,
     "metadata": {},
     "output_type": "execute_result"
    }
   ],
   "source": [
    "all_doc"
   ]
  },
  {
   "cell_type": "code",
   "execution_count": 70,
   "metadata": {},
   "outputs": [],
   "source": [
    "all_doc_list = []\n",
    "for doc in all_doc:\n",
    "    doc_list = [word for word in jieba.cut(doc)]\n",
    "    all_doc_list.append(doc_list)"
   ]
  },
  {
   "cell_type": "code",
   "execution_count": 71,
   "metadata": {},
   "outputs": [
    {
     "name": "stdout",
     "output_type": "stream",
     "text": [
      "[['我', '不', '喜欢', '上海'], ['上海', '是', '一个', '好', '地方'], ['北京', '是', '一个', '好', '地方'], ['上海', '好吃', '的', '在', '哪里'], ['上海', '好玩', '的', '在', '哪里'], ['上海', '是', '好', '地方'], ['上海', '路', '和', '上海', '人'], ['喜欢', '小吃']]\n"
     ]
    }
   ],
   "source": [
    "print(all_doc_list)"
   ]
  },
  {
   "cell_type": "code",
   "execution_count": 72,
   "metadata": {},
   "outputs": [
    {
     "data": {
      "text/plain": [
       "['我', '喜欢', '上海', '的', '小吃']"
      ]
     },
     "execution_count": 72,
     "metadata": {},
     "output_type": "execute_result"
    }
   ],
   "source": [
    "doc_test_list = [word for word in jieba.cut(doc_test)]\n",
    "doc_test_list"
   ]
  },
  {
   "cell_type": "code",
   "execution_count": 73,
   "metadata": {
    "collapsed": true
   },
   "outputs": [],
   "source": [
    "#首先用dictionary方法获取词袋（bag-of-words)\n",
    "dictionary = corpora.Dictionary(all_doc_list)"
   ]
  },
  {
   "cell_type": "code",
   "execution_count": 74,
   "metadata": {},
   "outputs": [
    {
     "data": {
      "text/plain": [
       "[0, 1, 2, 3, 4, 5, 6, 7, 8, 9, 10, 11, 12, 13, 14, 15, 16, 17]"
      ]
     },
     "execution_count": 74,
     "metadata": {},
     "output_type": "execute_result"
    }
   ],
   "source": [
    "#词袋中用数字对所有词进行了编号\n",
    "dictionary.keys()"
   ]
  },
  {
   "cell_type": "code",
   "execution_count": 75,
   "metadata": {},
   "outputs": [
    {
     "data": {
      "text/plain": [
       "{'一个': 4,\n",
       " '上海': 0,\n",
       " '不': 1,\n",
       " '人': 14,\n",
       " '北京': 8,\n",
       " '和': 15,\n",
       " '哪里': 9,\n",
       " '喜欢': 2,\n",
       " '在': 10,\n",
       " '地方': 5,\n",
       " '好': 6,\n",
       " '好吃': 11,\n",
       " '好玩': 13,\n",
       " '小吃': 17,\n",
       " '我': 3,\n",
       " '是': 7,\n",
       " '的': 12,\n",
       " '路': 16}"
      ]
     },
     "execution_count": 75,
     "metadata": {},
     "output_type": "execute_result"
    }
   ],
   "source": [
    "#编号与词之间的对应关系\n",
    "dictionary.token2id"
   ]
  },
  {
   "cell_type": "code",
   "execution_count": 76,
   "metadata": {
    "collapsed": true
   },
   "outputs": [],
   "source": [
    "#以下使用doc2bow制作语料库\n",
    "\n",
    "corpus = [dictionary.doc2bow(doc) for doc in all_doc_list]"
   ]
  },
  {
   "cell_type": "code",
   "execution_count": 77,
   "metadata": {},
   "outputs": [
    {
     "name": "stdout",
     "output_type": "stream",
     "text": [
      "[[(0, 1), (1, 1), (2, 1), (3, 1)], [(0, 1), (4, 1), (5, 1), (6, 1), (7, 1)], [(4, 1), (5, 1), (6, 1), (7, 1), (8, 1)], [(0, 1), (9, 1), (10, 1), (11, 1), (12, 1)], [(0, 1), (9, 1), (10, 1), (12, 1), (13, 1)], [(0, 1), (5, 1), (6, 1), (7, 1)], [(0, 2), (14, 1), (15, 1), (16, 1)], [(2, 1), (17, 1)]]\n"
     ]
    }
   ],
   "source": [
    "print(corpus)"
   ]
  },
  {
   "cell_type": "code",
   "execution_count": 78,
   "metadata": {},
   "outputs": [
    {
     "data": {
      "text/plain": [
       "[(0, 1), (2, 1), (3, 1), (12, 1), (17, 1)]"
      ]
     },
     "execution_count": 78,
     "metadata": {},
     "output_type": "execute_result"
    }
   ],
   "source": [
    "#把测试文档也转换为二元组的向量\n",
    "\n",
    "doc_test_vec = dictionary.doc2bow(doc_test_list)\n",
    "doc_test_vec"
   ]
  },
  {
   "cell_type": "code",
   "execution_count": 79,
   "metadata": {},
   "outputs": [
    {
     "data": {
      "text/plain": [
       "array([0.67082036, 0.19999999, 0.        , 0.39999998, 0.39999998,\n",
       "       0.2236068 , 0.3380617 , 0.6324555 ], dtype=float32)"
      ]
     },
     "execution_count": 79,
     "metadata": {},
     "output_type": "execute_result"
    }
   ],
   "source": [
    "#对每个目标文档，分析测试文档的相似度\n",
    "#Compute similarity against a corpus of documents by storing the sparse index matrix in memory. \n",
    "#The similarity measure used is cosine between two vectors.\n",
    "index = similarities.SparseMatrixSimilarity(corpus, num_features=len(dictionary.keys()))\n",
    "sim = index[doc_test_vec]\n",
    "sim"
   ]
  },
  {
   "cell_type": "markdown",
   "metadata": {},
   "source": [
    "余弦相似度的计算：\n",
    "test和doc0总共有三个词相同，所以，分子是3；分母分别计算test和doc0的长度，分别是sqrt(5)和2；所以是3/(2*sqrt(5))=-.6708"
   ]
  },
  {
   "cell_type": "code",
   "execution_count": 80,
   "metadata": {},
   "outputs": [
    {
     "data": {
      "text/plain": [
       "[(0, 0.67082036),\n",
       " (7, 0.6324555),\n",
       " (3, 0.39999998),\n",
       " (4, 0.39999998),\n",
       " (6, 0.3380617),\n",
       " (5, 0.2236068),\n",
       " (1, 0.19999999),\n",
       " (2, 0.0)]"
      ]
     },
     "execution_count": 80,
     "metadata": {},
     "output_type": "execute_result"
    }
   ],
   "source": [
    "#根据相似度排序\n",
    "\n",
    "sorted(enumerate(sim), key=lambda item: -item[1])"
   ]
  },
  {
   "cell_type": "code",
   "execution_count": 81,
   "metadata": {},
   "outputs": [
    {
     "data": {
      "text/plain": [
       "[(0, 0.08112725037593049),\n",
       " (2, 0.3909393754390612),\n",
       " (3, 0.5864090631585919),\n",
       " (12, 0.3909393754390612),\n",
       " (17, 0.5864090631585919)]"
      ]
     },
     "execution_count": 81,
     "metadata": {},
     "output_type": "execute_result"
    }
   ],
   "source": [
    "#使用TF-IDF模型对语料库建模\n",
    "tfidf = models.TfidfModel(corpus)\n",
    "\n",
    "#获取测试文档中，每个词的TF-IDF值\n",
    "tfidf[doc_test_vec]"
   ]
  },
  {
   "cell_type": "code",
   "execution_count": 82,
   "metadata": {},
   "outputs": [
    {
     "data": {
      "text/plain": [
       "array([0.54680777, 0.01055349, 0.        , 0.17724207, 0.17724207,\n",
       "       0.01354522, 0.01279765, 0.70477605], dtype=float32)"
      ]
     },
     "execution_count": 82,
     "metadata": {},
     "output_type": "execute_result"
    }
   ],
   "source": [
    "index = similarities.SparseMatrixSimilarity(tfidf[corpus], num_features=len(dictionary.keys()))\n",
    "sim = index[tfidf[doc_test_vec]]\n",
    "sim"
   ]
  },
  {
   "cell_type": "code",
   "execution_count": 83,
   "metadata": {},
   "outputs": [
    {
     "data": {
      "text/plain": [
       "[(7, 0.70477605),\n",
       " (0, 0.54680777),\n",
       " (3, 0.17724207),\n",
       " (4, 0.17724207),\n",
       " (5, 0.013545224),\n",
       " (6, 0.01279765),\n",
       " (1, 0.010553493),\n",
       " (2, 0.0)]"
      ]
     },
     "execution_count": 83,
     "metadata": {},
     "output_type": "execute_result"
    }
   ],
   "source": [
    "#根据相似度排序\n",
    "\n",
    "sorted(enumerate(sim), key=lambda item: -item[1])"
   ]
  },
  {
   "cell_type": "markdown",
   "metadata": {},
   "source": [
    "很有意思的一点是，使用tf-idf，句子7的相似度最高"
   ]
  },
  {
   "cell_type": "code",
   "execution_count": 84,
   "metadata": {},
   "outputs": [
    {
     "data": {
      "text/plain": [
       "['Bob', '比', 'Alice', '跑得快']"
      ]
     },
     "execution_count": 84,
     "metadata": {},
     "output_type": "execute_result"
    }
   ],
   "source": [
    "sent1 = \"Alice比Bob跑得快\"\n",
    "sent2 = \"Bob比Alice跑得快\"\n",
    "sent3 = \"小红比小明跑得快\"\n",
    "all_sent = []\n",
    "all_sent.append(sent1)\n",
    "all_sent.append(sent3)\n",
    "all_sent_list = []\n",
    "for sent in all_sent:\n",
    "    sent_list = [word for word in jieba.cut(sent)]\n",
    "    all_sent_list.append(sent_list)\n",
    "    \n",
    "sent_test_list = [word for word in jieba.cut(sent2)]\n",
    "sent_test_list"
   ]
  },
  {
   "cell_type": "code",
   "execution_count": 85,
   "metadata": {
    "collapsed": true
   },
   "outputs": [],
   "source": [
    "dictionary = corpora.Dictionary(all_sent_list)\n",
    "corpus = [dictionary.doc2bow(sent) for sent in all_sent_list]\n",
    "sent_test_vec = dictionary.doc2bow(sent_test_list)\n"
   ]
  },
  {
   "cell_type": "code",
   "execution_count": 86,
   "metadata": {},
   "outputs": [
    {
     "data": {
      "text/plain": [
       "array([1.        , 0.28867513], dtype=float32)"
      ]
     },
     "execution_count": 86,
     "metadata": {},
     "output_type": "execute_result"
    }
   ],
   "source": [
    "index = similarities.SparseMatrixSimilarity(corpus, num_features=len(dictionary.keys()))\n",
    "sim = index[sent_test_vec]\n",
    "sim"
   ]
  },
  {
   "cell_type": "code",
   "execution_count": 87,
   "metadata": {},
   "outputs": [
    {
     "data": {
      "text/plain": [
       "[(0, 0.5773502691896258), (1, 0.5773502691896258), (2, 0.5773502691896258)]"
      ]
     },
     "execution_count": 87,
     "metadata": {},
     "output_type": "execute_result"
    }
   ],
   "source": [
    "#使用TF-IDF模型对语料库建模\n",
    "tfidf = models.TfidfModel(corpus)\n",
    "\n",
    "#获取测试文档中，每个词的TF-IDF值\n",
    "tfidf[sent_test_vec]"
   ]
  },
  {
   "cell_type": "code",
   "execution_count": 88,
   "metadata": {},
   "outputs": [
    {
     "data": {
      "text/plain": [
       "array([0.81649655, 0.        ], dtype=float32)"
      ]
     },
     "execution_count": 88,
     "metadata": {},
     "output_type": "execute_result"
    }
   ],
   "source": [
    "index = similarities.SparseMatrixSimilarity(tfidf[corpus], num_features=len(dictionary.keys()))\n",
    "sim = index[tfidf[doc_test_vec]]\n",
    "sim"
   ]
  },
  {
   "cell_type": "markdown",
   "metadata": {},
   "source": [
    "可以讨论下为啥sent2和sent3的相似度为0？"
   ]
  },
  {
   "cell_type": "code",
   "execution_count": null,
   "metadata": {
    "collapsed": true
   },
   "outputs": [],
   "source": []
  }
 ],
 "metadata": {
  "kernelspec": {
   "display_name": "Python 3",
   "language": "python",
   "name": "python3"
  },
  "language_info": {
   "codemirror_mode": {
    "name": "ipython",
    "version": 3
   },
   "file_extension": ".py",
   "mimetype": "text/x-python",
   "name": "python",
   "nbconvert_exporter": "python",
   "pygments_lexer": "ipython3",
   "version": "3.6.3"
  }
 },
 "nbformat": 4,
 "nbformat_minor": 2
}
